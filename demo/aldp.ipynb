{
 "cells": [
  {
   "cell_type": "code",
   "execution_count": 1,
   "id": "a7b0c8ad",
   "metadata": {
    "ExecuteTime": {
     "end_time": "2024-01-25T14:24:18.901312724Z",
     "start_time": "2024-01-25T14:24:14.960364535Z"
    }
   },
   "outputs": [],
   "source": [
    "import urllib\n",
    "\n",
    "import torch\n",
    "import numpy as np\n",
    "import mdtraj\n",
    "\n",
    "from tqdm import tqdm\n",
    "from matplotlib import pyplot as plt\n",
    "\n",
    "from fab.utils.training import load_config\n",
    "from experiments.make_flow.make_aldp_model import make_aldp_model\n",
    "\n",
    "from openmmtools.testsystems import AlanineDipeptideVacuum"
   ]
  },
  {
   "cell_type": "code",
   "outputs": [],
   "source": [
    "torch.set_default_dtype(torch.float64)\n",
    "\n",
    "device = torch.device('cuda' if torch.cuda.is_available() else 'cpu')"
   ],
   "metadata": {
    "collapsed": false,
    "ExecuteTime": {
     "end_time": "2024-01-25T14:24:24.357400631Z",
     "start_time": "2024-01-25T14:24:24.356462106Z"
    }
   },
   "id": "8b882b2b92a75899",
   "execution_count": 2
  },
  {
   "cell_type": "code",
   "outputs": [
    {
     "data": {
      "text/plain": "('config.yaml', <http.client.HTTPMessage at 0x7f1a9aa8fe10>)"
     },
     "execution_count": 3,
     "metadata": {},
     "output_type": "execute_result"
    }
   ],
   "source": [
    "urllib.request.urlretrieve('https://huggingface.co/VincentStimper/fab/resolve/main/aldp/config.yaml', 'config.yaml')"
   ],
   "metadata": {
    "collapsed": false,
    "ExecuteTime": {
     "end_time": "2024-01-25T14:24:25.621166594Z",
     "start_time": "2024-01-25T14:24:25.482173889Z"
    }
   },
   "id": "c1e19aede303d50e",
   "execution_count": 3
  },
  {
   "cell_type": "code",
   "outputs": [],
   "source": [
    "config = load_config('config.yaml')\n",
    "\n",
    "config['data']['transform'] = '../' + config['data']['transform']"
   ],
   "metadata": {
    "collapsed": false,
    "ExecuteTime": {
     "end_time": "2024-01-25T14:24:27.504461057Z",
     "start_time": "2024-01-25T14:24:27.498362021Z"
    }
   },
   "id": "3fc26b6acfdce425",
   "execution_count": 4
  },
  {
   "cell_type": "code",
   "outputs": [],
   "source": [
    "model = make_aldp_model(config, device)"
   ],
   "metadata": {
    "collapsed": false,
    "ExecuteTime": {
     "end_time": "2024-01-25T14:24:29.701264449Z",
     "start_time": "2024-01-25T14:24:29.473068589Z"
    }
   },
   "id": "aea4aba01583fd7b",
   "execution_count": 5
  },
  {
   "cell_type": "code",
   "outputs": [
    {
     "data": {
      "text/plain": "('model.pt', <http.client.HTTPMessage at 0x7f1a9a65f7d0>)"
     },
     "execution_count": 6,
     "metadata": {},
     "output_type": "execute_result"
    }
   ],
   "source": [
    "urllib.request.urlretrieve('https://huggingface.co/VincentStimper/fab/resolve/main/aldp/model.pt', 'model.pt')"
   ],
   "metadata": {
    "collapsed": false,
    "ExecuteTime": {
     "end_time": "2024-01-25T14:24:31.548916869Z",
     "start_time": "2024-01-25T14:24:31.023250361Z"
    }
   },
   "id": "f802aa89ef3a76ff",
   "execution_count": 6
  },
  {
   "cell_type": "code",
   "outputs": [],
   "source": [
    "model.load('model.pt', map_location=device)"
   ],
   "metadata": {
    "collapsed": false,
    "ExecuteTime": {
     "end_time": "2024-01-25T14:24:32.609668204Z",
     "start_time": "2024-01-25T14:24:32.575108699Z"
    }
   },
   "id": "ee8d147bd79deefb",
   "execution_count": 7
  },
  {
   "cell_type": "code",
   "outputs": [
    {
     "name": "stderr",
     "output_type": "stream",
     "text": [
      "  5%|▌         | 52/1000 [00:04<01:29, 10.63it/s]"
     ]
    }
   ],
   "source": [
    "batch_size = 100\n",
    "n_batches = 1000\n",
    "\n",
    "x_list = []\n",
    "\n",
    "with torch.no_grad():\n",
    "    for _ in tqdm(range(n_batches)):\n",
    "        z = model.flow.sample((100,))\n",
    "        x, _ = model.target_distribution.coordinate_transform(z)\n",
    "        x_list.append(x.cpu().numpy())\n",
    "\n",
    "x = np.concatenate(x_list)"
   ],
   "metadata": {
    "collapsed": false,
    "is_executing": true,
    "ExecuteTime": {
     "start_time": "2024-01-25T14:24:33.694731294Z"
    }
   },
   "id": "b6b09e8c4ec160ed",
   "execution_count": null
  },
  {
   "cell_type": "code",
   "outputs": [],
   "source": [
    "aldp = AlanineDipeptideVacuum()\n",
    "topology = mdtraj.Topology.from_openmm(aldp.topology)\n",
    "traj = mdtraj.Trajectory(x.reshape(-1, 22, 3), topology)\n",
    "\n",
    "phi = mdtraj.compute_phi(traj)[1].reshape(-1)\n",
    "psi = mdtraj.compute_psi(traj)[1].reshape(-1)"
   ],
   "metadata": {
    "collapsed": false,
    "is_executing": true
   },
   "id": "234855e49ebb54ea",
   "execution_count": null
  },
  {
   "cell_type": "code",
   "outputs": [],
   "source": [
    "plt.figure(figsize=(8, 8))\n",
    "plt.plot(phi, psi, '.', alpha=0.2)\n",
    "plt.xlim([-np.pi, np.pi])\n",
    "plt.ylim([-np.pi, np.pi])\n",
    "plt.gca().set_box_aspect(1)\n",
    "plt.show()"
   ],
   "metadata": {
    "collapsed": false,
    "is_executing": true
   },
   "id": "daa3c59a253da4db",
   "execution_count": null
  },
  {
   "cell_type": "code",
   "outputs": [],
   "source": [],
   "metadata": {
    "collapsed": false
   },
   "id": "a402053f7c7703d7"
  }
 ],
 "metadata": {
  "kernelspec": {
   "display_name": "Python 3 (ipykernel)",
   "language": "python",
   "name": "python3"
  },
  "language_info": {
   "codemirror_mode": {
    "name": "ipython",
    "version": 3
   },
   "file_extension": ".py",
   "mimetype": "text/x-python",
   "name": "python",
   "nbconvert_exporter": "python",
   "pygments_lexer": "ipython3",
   "version": "3.7.11"
  }
 },
 "nbformat": 4,
 "nbformat_minor": 5
}
